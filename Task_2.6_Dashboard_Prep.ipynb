{
 "cells": [
  {
   "cell_type": "markdown",
   "id": "39b88960-9d41-49c1-9652-f7d8c56e9671",
   "metadata": {},
   "source": [
    "## Import libraries and data"
   ]
  },
  {
   "cell_type": "code",
   "execution_count": 1,
   "id": "c7dd5a8e-19ff-4713-b628-23ca805f6f98",
   "metadata": {},
   "outputs": [],
   "source": [
    "import streamlit as st\n",
    "import pandas as pd\n",
    "import numpy as np\n",
    "import plotly.express as px\n",
    "from plotly.subplots import make_subplots\n",
    "import plotly.graph_objects as go\n",
    "import matplotlib.pyplot as plt\n",
    "from datetime import datetime as dt\n",
    "from streamlit_keplergl import keplergl_static"
   ]
  },
  {
   "cell_type": "code",
   "execution_count": 2,
   "id": "a2f37c1d-fb73-4317-8756-9bd108aa26a1",
   "metadata": {},
   "outputs": [],
   "source": [
    "df = pd.read_csv(r\"C:\\Users\\Drew\\New_York_CitiBike\\02 Data\\Prepared Data\\CitiBike_NOAA_Rides.csv\", dtype={5: 'str', 7: 'str'})"
   ]
  },
  {
   "cell_type": "code",
   "execution_count": 3,
   "id": "34c1c55c-3338-4e97-961e-e3116fa29eec",
   "metadata": {},
   "outputs": [],
   "source": [
    "df_geo = pd.read_csv(r\"C:\\Users\\Drew\\New_York_CitiBike\\Trips_Geo_Stations.csv\", index_col = 0)"
   ]
  },
  {
   "cell_type": "code",
   "execution_count": 4,
   "id": "87d6febc-f154-441f-8ef8-ba13f46bd26a",
   "metadata": {},
   "outputs": [
    {
     "data": {
      "text/plain": [
       "ride_id                object\n",
       "rideable_type          object\n",
       "started_at             object\n",
       "ended_at               object\n",
       "start_station_name     object\n",
       "start_station_id       object\n",
       "end_station_name       object\n",
       "end_station_id         object\n",
       "start_lat             float64\n",
       "start_lng             float64\n",
       "end_lat               float64\n",
       "end_lng               float64\n",
       "member_casual          object\n",
       "date                   object\n",
       "avgTemp               float64\n",
       "number_of_rides         int64\n",
       "_merge                 object\n",
       "tripduration          float64\n",
       "gender                 object\n",
       "dtype: object"
      ]
     },
     "execution_count": 4,
     "metadata": {},
     "output_type": "execute_result"
    }
   ],
   "source": [
    "df.dtypes"
   ]
  },
  {
   "cell_type": "code",
   "execution_count": 5,
   "id": "1bbe39a8-7a4f-4720-8290-c16080654705",
   "metadata": {},
   "outputs": [
    {
     "data": {
      "text/plain": [
       "start_station_name     object\n",
       "end_station_name       object\n",
       "trips                   int64\n",
       "start_lat             float64\n",
       "start_lng             float64\n",
       "end_lat               float64\n",
       "end_lng               float64\n",
       "dtype: object"
      ]
     },
     "execution_count": 5,
     "metadata": {},
     "output_type": "execute_result"
    }
   ],
   "source": [
    "df_geo.dtypes"
   ]
  },
  {
   "cell_type": "markdown",
   "id": "e62cae74-b12f-482a-b0ce-bb2160bb50d7",
   "metadata": {},
   "source": [
    "## Creating 'month' and 'season' columns"
   ]
  },
  {
   "cell_type": "code",
   "execution_count": 6,
   "id": "b88ce941-fd9b-4444-98ba-9910abfcced2",
   "metadata": {},
   "outputs": [],
   "source": [
    "# create month column\n",
    "# convert the 'date' column to datetime format using the specified format ('%Y-%m-%d')\n",
    "# extract the month from the 'date' column and create a new 'month' column\n",
    "# setting month column as int data type\n",
    "\n",
    "df['date'] = pd.to_datetime(df['date'], format = '%Y-%m-%d')\n",
    "df['month'] = df['date'].dt.month\n",
    "df['month'] = df['month'].astype('int')"
   ]
  },
  {
   "cell_type": "code",
   "execution_count": 7,
   "id": "15182e58-2bae-4178-ac7e-c6d1654c1a5e",
   "metadata": {},
   "outputs": [],
   "source": [
    "# create season column\n",
    "\n",
    "df['season'] = [\n",
    "    \"winter\" if (month== 12 or 1 <= month <= 4)\n",
    "    else \"spring\" if (4 < month <= 5)\n",
    "    else \"summer\" if (6 <= month <= 9)\n",
    "    else \"fall\"\n",
    "for month in df['month']\n",
    "]\n",
    "    "
   ]
  },
  {
   "cell_type": "markdown",
   "id": "52c54fe2-322f-4e0a-9799-34d3048e2037",
   "metadata": {},
   "source": [
    "## Using plotly to produce bar chart of most popular stations"
   ]
  },
  {
   "cell_type": "code",
   "execution_count": 8,
   "id": "b4617889-58c2-4e4a-bb47-c34361ea60fa",
   "metadata": {},
   "outputs": [],
   "source": [
    "# creating station column count to find most popular station\n",
    "\n",
    "df['value'] = 1\n",
    "df_station_bar_count = df.groupby('start_station_name',as_index=False).agg({'value':'sum'})\n",
    "top20_stations = df_station_bar_count.nlargest(20,'value')"
   ]
  },
  {
   "cell_type": "code",
   "execution_count": 9,
   "id": "1e7d17ae-b9ad-4b64-9efd-f6ccc2301143",
   "metadata": {},
   "outputs": [
    {
     "data": {
      "text/html": [
       "<div>\n",
       "<style scoped>\n",
       "    .dataframe tbody tr th:only-of-type {\n",
       "        vertical-align: middle;\n",
       "    }\n",
       "\n",
       "    .dataframe tbody tr th {\n",
       "        vertical-align: top;\n",
       "    }\n",
       "\n",
       "    .dataframe thead th {\n",
       "        text-align: right;\n",
       "    }\n",
       "</style>\n",
       "<table border=\"1\" class=\"dataframe\">\n",
       "  <thead>\n",
       "    <tr style=\"text-align: right;\">\n",
       "      <th></th>\n",
       "      <th>start_station_name</th>\n",
       "      <th>value</th>\n",
       "    </tr>\n",
       "  </thead>\n",
       "  <tbody>\n",
       "    <tr>\n",
       "      <th>1587</th>\n",
       "      <td>W 21 St &amp; 6 Ave</td>\n",
       "      <td>128823</td>\n",
       "    </tr>\n",
       "    <tr>\n",
       "      <th>1718</th>\n",
       "      <td>West St &amp; Chambers St</td>\n",
       "      <td>123045</td>\n",
       "    </tr>\n",
       "    <tr>\n",
       "      <th>495</th>\n",
       "      <td>Broadway &amp; W 58 St</td>\n",
       "      <td>114040</td>\n",
       "    </tr>\n",
       "    <tr>\n",
       "      <th>286</th>\n",
       "      <td>6 Ave &amp; W 33 St</td>\n",
       "      <td>106236</td>\n",
       "    </tr>\n",
       "    <tr>\n",
       "      <th>8</th>\n",
       "      <td>1 Ave &amp; E 68 St</td>\n",
       "      <td>104685</td>\n",
       "    </tr>\n",
       "  </tbody>\n",
       "</table>\n",
       "</div>"
      ],
      "text/plain": [
       "         start_station_name   value\n",
       "1587        W 21 St & 6 Ave  128823\n",
       "1718  West St & Chambers St  123045\n",
       "495      Broadway & W 58 St  114040\n",
       "286         6 Ave & W 33 St  106236\n",
       "8           1 Ave & E 68 St  104685"
      ]
     },
     "execution_count": 9,
     "metadata": {},
     "output_type": "execute_result"
    }
   ],
   "source": [
    "top20_stations.head()"
   ]
  },
  {
   "cell_type": "code",
   "execution_count": null,
   "id": "2c618618-47a3-4f58-9f48-a6e4a516da38",
   "metadata": {},
   "outputs": [],
   "source": [
    "# create top 20 stations bar chart using plotly\n",
    "\n",
    "# Define a custom colorscale using shades of blue\n",
    "colorscale = [\n",
    "    [0.0, '#004B87'],  # Darker shade of blue\n",
    "    [0.5, '#0067B1'],  # CitiBike blue\n",
    "    [1.0, '#66C5E9']   # Lighter blue, more saturated\n",
    "]\n",
    "\n",
    "fig_top20 = go.Figure(go.Bar(x = top20_stations['start_station_name'], y=top20_stations['value'], marker=dict(color=top20_stations['value'],colorscale=colorscale)))\n",
    "fig_top20.update_layout(xaxis_tickangle=20)\n",
    "\n",
    "fig_top20.update_layout(\n",
    "    title = 'Top 20 Most Popular CitiBike Stations in New York',\n",
    "    xaxis_title = 'Start Stations',\n",
    "    yaxis_title = 'Number of Times Stations Used by Riders',\n",
    "    width = 900, height = 600)\n"
   ]
  },
  {
   "cell_type": "code",
   "execution_count": 11,
   "id": "69730e0b-c709-4a1f-a84d-a0cf8a596ee3",
   "metadata": {},
   "outputs": [
    {
     "data": {
      "text/plain": [
       "279"
      ]
     },
     "execution_count": 11,
     "metadata": {},
     "output_type": "execute_result"
    }
   ],
   "source": [
    "import gc\n",
    "gc.collect()"
   ]
  },
  {
   "cell_type": "markdown",
   "id": "814bd896-921f-44b6-9c48-e1ec01be8df9",
   "metadata": {},
   "source": [
    "## Creating Pie Chart of Member Usage"
   ]
  },
  {
   "cell_type": "code",
   "execution_count": 12,
   "id": "d2ec7f91-a0ca-47b5-a885-a573467e19e2",
   "metadata": {},
   "outputs": [],
   "source": [
    "# create member count focused dataframe\n",
    "\n",
    "df_member=df.groupby('member_casual',as_index=False).agg({'value':'sum'})"
   ]
  },
  {
   "cell_type": "code",
   "execution_count": null,
   "id": "f8ef22e9-4d39-4f92-befc-2510af1f3db3",
   "metadata": {},
   "outputs": [],
   "source": [
    "# create member usage pie chart using plotly\n",
    "\n",
    "# define custom colorscale with darker and light CitiBike blue\n",
    "colors = ['#004B87', '#0067B1']\n",
    "\n",
    "fig_member = go.Figure(go.Pie(labels=df_member['member_casual'],values=df_member['value'],marker=dict(colors=colors),textinfo='percent+label'))\n",
    "\n",
    "fig_member.update_layout(\n",
    "    title='CitiBike Member Usage in New York',\n",
    "    xaxis_title='Type of Rider',\n",
    "    yaxis_title='Number of Trips by Riders',\n",
    "    width=900,\n",
    "    height=600)"
   ]
  },
  {
   "cell_type": "code",
   "execution_count": 14,
   "id": "4964f0ad-a276-4552-9dc8-884f4cb817e4",
   "metadata": {},
   "outputs": [
    {
     "data": {
      "text/plain": [
       "85"
      ]
     },
     "execution_count": 14,
     "metadata": {},
     "output_type": "execute_result"
    }
   ],
   "source": [
    "import gc\n",
    "gc.collect()"
   ]
  },
  {
   "cell_type": "markdown",
   "id": "e827f0c7-9690-4899-a5d0-0bfd1d6e2232",
   "metadata": {},
   "source": [
    "## Creating Bar Chart of Rides Based on Season"
   ]
  },
  {
   "cell_type": "code",
   "execution_count": 15,
   "id": "32b51911-635d-4e46-bc34-a8243672013f",
   "metadata": {},
   "outputs": [],
   "source": [
    "# create season count focused dataframe\n",
    "\n",
    "df_season=df.groupby('season',as_index=False).agg({'value':'sum'})"
   ]
  },
  {
   "cell_type": "code",
   "execution_count": null,
   "id": "f9e43792-0677-49e1-828e-c0d26e070700",
   "metadata": {},
   "outputs": [],
   "source": [
    "# create season usage bar chart using plotly\n",
    "\n",
    "# Define a custom colorscale using shades of blue\n",
    "colorscale = [\n",
    "    [0.0, '#004B87'],  # Darker shade of blue\n",
    "    [0.5, '#0067B1'],  # CitiBike blue\n",
    "    [1.0, '#66C5E9']   # Lighter blue, more saturated\n",
    "]\n",
    "\n",
    "fig_season = go.Figure(go.Bar(x = df_season['season'], y=df_season['value'], marker=dict(color=df_season['value'],colorscale=colorscale)))\n",
    "fig_season.update_layout()\n",
    "\n",
    "fig_season.update_layout(\n",
    "    title = 'Seasonal Bike Usage',\n",
    "    xaxis_title = 'Season',\n",
    "    yaxis_title = 'Number of Rides by Season',\n",
    "    width = 900, height = 600)"
   ]
  },
  {
   "cell_type": "code",
   "execution_count": 17,
   "id": "34e8b420-64f2-4fbf-bed0-f4e60f1b1486",
   "metadata": {},
   "outputs": [
    {
     "data": {
      "text/plain": [
       "17"
      ]
     },
     "execution_count": 17,
     "metadata": {},
     "output_type": "execute_result"
    }
   ],
   "source": [
    "import gc\n",
    "gc.collect()"
   ]
  },
  {
   "cell_type": "markdown",
   "id": "9a2b082b-b0f3-433f-9502-c22d58a4541a",
   "metadata": {},
   "source": [
    "## Creating Pie Chart of Type of Bike Used"
   ]
  },
  {
   "cell_type": "code",
   "execution_count": 18,
   "id": "f60ce4ab-cfa5-4942-9ffc-3773c2ae5e9c",
   "metadata": {},
   "outputs": [],
   "source": [
    "# create member count focused dataframe\n",
    "\n",
    "df_bike_type=df.groupby('rideable_type',as_index=False).agg({'value':'sum'})"
   ]
  },
  {
   "cell_type": "code",
   "execution_count": null,
   "id": "8b5dbc3e-4680-4ab2-af04-b006dc4afb2d",
   "metadata": {},
   "outputs": [],
   "source": [
    "# create pie chart of type of bikes used using plotly\n",
    "\n",
    "# define custom colorscale with darker and light CitiBike blue\n",
    "colors = ['#004B87', '#0067B1']\n",
    "\n",
    "fig_bike_type = go.Figure(go.Pie(labels=df_bike_type['rideable_type'],values=df_bike_type['value'],marker=dict(colors=colors),textinfo='percent+label'))\n",
    "\n",
    "fig_bike_type.update_layout(\n",
    "    title='Comparison of Bike Type Used by Riders in New York',\n",
    "    xaxis_title='Type of Bike',\n",
    "    yaxis_title='Number of Trips by Riders',\n",
    "    width=900,\n",
    "    height=600)"
   ]
  },
  {
   "cell_type": "code",
   "execution_count": 20,
   "id": "4ff69c09-4a2e-47a7-970b-847088d43acd",
   "metadata": {},
   "outputs": [
    {
     "data": {
      "text/plain": [
       "208"
      ]
     },
     "execution_count": 20,
     "metadata": {},
     "output_type": "execute_result"
    }
   ],
   "source": [
    "import gc\n",
    "gc.collect()"
   ]
  },
  {
   "cell_type": "markdown",
   "id": "c213d69a-0d5a-4a73-8cfc-f584b655c182",
   "metadata": {},
   "source": [
    "## Creating Dual-Line Chart of Bike Trips"
   ]
  },
  {
   "cell_type": "code",
   "execution_count": 21,
   "id": "d6c5bc9e-ac53-4084-a048-bfcd35cf2f65",
   "metadata": {},
   "outputs": [],
   "source": [
    "# Create a new DataFrame with only necessary columns\n",
    "df_line = df[['date', 'number_of_rides', 'avgTemp']]"
   ]
  },
  {
   "cell_type": "code",
   "execution_count": 22,
   "id": "bca4d61e-4be0-4274-9b9d-ba3d230aab93",
   "metadata": {},
   "outputs": [],
   "source": [
    "# Due to size of data, a sample size of the data was created to help show line chart\n",
    "\n",
    "df_sample = df_line.sample(n=2000000, random_state=42)"
   ]
  },
  {
   "cell_type": "code",
   "execution_count": 23,
   "id": "21522af0-5245-4161-92d6-c4c9df7e0d4b",
   "metadata": {},
   "outputs": [],
   "source": [
    "df_sample = df_sample.sort_values(by='date')"
   ]
  },
  {
   "cell_type": "code",
   "execution_count": null,
   "id": "e7f73402-9e78-470d-98eb-51e464e2e2a6",
   "metadata": {},
   "outputs": [],
   "source": [
    "# Dual axis Line chart\n",
    "fig_trip_temp = make_subplots(specs=[[{\"secondary_y\": True}]])\n",
    "\n",
    "fig_trip_temp.add_trace(\n",
    "    go.Scatter(\n",
    "        x=df_sample['date'],\n",
    "        y=df_sample['number_of_rides'],\n",
    "        name='Daily Bike Rides',\n",
    "        mode='lines',  # Only plot lines, not markers\n",
    "        line=dict(color='blue'),\n",
    "    ),\n",
    "    secondary_y=False\n",
    ")\n",
    "\n",
    "fig_trip_temp.add_trace(\n",
    "    go.Scatter(\n",
    "        x=df_sample['date'],\n",
    "        y=df_sample['avgTemp'],\n",
    "        name='Daily Temperature',\n",
    "        mode='lines',  # Only plot lines, not markers\n",
    "        line=dict(color='red'),\n",
    "    ),\n",
    "    secondary_y=True\n",
    ")\n",
    "\n",
    "fig_trip_temp.update_layout(\n",
    "    title='Daily Bike Trips vs Average Temperature in New York',\n",
    "    width=900,\n",
    "    height=600,\n",
    "    xaxis_title=\"Date\",\n",
    "    yaxis_title=\"Number of daily bike rides\",\n",
    "    yaxis2_title=\"Average temperatures (°F)\"\n",
    ")\n",
    "\n",
    "fig_trip_temp.show()\n"
   ]
  },
  {
   "cell_type": "code",
   "execution_count": 25,
   "id": "8a59a563-66ca-410e-8e3f-dceda1857672",
   "metadata": {},
   "outputs": [
    {
     "data": {
      "text/plain": [
       "16"
      ]
     },
     "execution_count": 25,
     "metadata": {},
     "output_type": "execute_result"
    }
   ],
   "source": [
    "import gc\n",
    "gc.collect()"
   ]
  },
  {
   "cell_type": "markdown",
   "id": "96d9cbb6-6e44-48fc-a5ff-62f3285a0d46",
   "metadata": {},
   "source": [
    " ## Reducing rows and columns"
   ]
  },
  {
   "cell_type": "code",
   "execution_count": 26,
   "id": "73dd8268-9030-4131-b8bb-791c9f8abbc7",
   "metadata": {},
   "outputs": [],
   "source": [
    "df_1 = df.drop(columns = {'ride_id','started_at','ended_at','start_station_id','end_station_id','_merge','gender'})"
   ]
  },
  {
   "cell_type": "code",
   "execution_count": 27,
   "id": "1c36aea5-3b24-4135-bdd7-8e6201d8116e",
   "metadata": {},
   "outputs": [
    {
     "data": {
      "text/plain": [
       "Index(['rideable_type', 'start_station_name', 'end_station_name', 'start_lat',\n",
       "       'start_lng', 'end_lat', 'end_lng', 'member_casual', 'date', 'avgTemp',\n",
       "       'number_of_rides', 'tripduration', 'month', 'season', 'value'],\n",
       "      dtype='object')"
      ]
     },
     "execution_count": 27,
     "metadata": {},
     "output_type": "execute_result"
    }
   ],
   "source": [
    "df_1.columns"
   ]
  },
  {
   "cell_type": "markdown",
   "id": "2b5ed9c1-3c82-4493-ac77-ac42ad699c2f",
   "metadata": {},
   "source": [
    "## Create Random Split"
   ]
  },
  {
   "cell_type": "code",
   "execution_count": 28,
   "id": "2a1537cb-fb04-4187-9397-12c2c78c7fb4",
   "metadata": {},
   "outputs": [],
   "source": [
    "np.random.seed(42)\n",
    "red = np.random.rand(len(df_1)) <= 0.92"
   ]
  },
  {
   "cell_type": "code",
   "execution_count": 29,
   "id": "87826aee-807e-4f5a-a38f-8bfeccb384aa",
   "metadata": {},
   "outputs": [],
   "source": [
    "small = df_1[~red]"
   ]
  },
  {
   "cell_type": "code",
   "execution_count": 30,
   "id": "b674c9c7-4cc9-4d50-a379-481b1fae2f94",
   "metadata": {},
   "outputs": [
    {
     "data": {
      "text/plain": [
       "(2380560, 15)"
      ]
     },
     "execution_count": 30,
     "metadata": {},
     "output_type": "execute_result"
    }
   ],
   "source": [
    "small.shape"
   ]
  }
 ],
 "metadata": {
  "kernelspec": {
   "display_name": "Python (New_York_CitiBike2)",
   "language": "python",
   "name": "new_york_citibike2"
  },
  "language_info": {
   "codemirror_mode": {
    "name": "ipython",
    "version": 3
   },
   "file_extension": ".py",
   "mimetype": "text/x-python",
   "name": "python",
   "nbconvert_exporter": "python",
   "pygments_lexer": "ipython3",
   "version": "3.9.20"
  }
 },
 "nbformat": 4,
 "nbformat_minor": 5
}
